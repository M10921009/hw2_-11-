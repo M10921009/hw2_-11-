{
  "nbformat": 4,
  "nbformat_minor": 0,
  "metadata": {
    "colab": {
      "name": "hw2_第11組_Mango.ipynb",
      "provenance": [],
      "collapsed_sections": []
    },
    "kernelspec": {
      "name": "python3",
      "display_name": "Python 3"
    },
    "language_info": {
      "name": "python"
    },
    "accelerator": "GPU"
  },
  "cells": [
    {
      "cell_type": "markdown",
      "metadata": {
        "id": "I80U77J_NLjT"
      },
      "source": [
        "安裝所需要的環境套件"
      ]
    },
    {
      "cell_type": "code",
      "metadata": {
        "id": "UKasJ15QjUew"
      },
      "source": [
        "import os\n",
        "import cv2 \n",
        "from google.colab.patches import cv2_imshow\n",
        "import csv\n",
        "import random\n",
        "import time\n",
        "import numpy as np\n",
        "import pandas as pd\n",
        "import matplotlib.image as mping\n",
        "import matplotlib.pyplot as plt\n",
        "import seaborn as sns\n",
        "from keras import optimizers\n",
        "from matplotlib.font_manager import FontProperties\n",
        "plt.rcParams['font.sans-serif'] = ['Microsoft JhengHei']\n",
        "from keras.utils.np_utils import to_categorical\n",
        "from keras.preprocessing.image import ImageDataGenerator, array_to_img, img_to_array, load_img\n",
        "from keras.optimizers import RMSprop\n",
        "from keras.models import Sequential\n",
        "from keras import utils as np_utils\n",
        "from keras import backend as K\n",
        "from tensorflow.keras import models\n",
        "from tensorflow.keras import layers\n",
        "from tensorflow import keras\n",
        "import tensorflow as tf"
      ],
      "execution_count": null,
      "outputs": []
    },
    {
      "cell_type": "code",
      "metadata": {
        "id": "mFPuqLdIkZ43"
      },
      "source": [
        "'''\n",
        "csvfile = open('/content/drive/MyDrive/Colab/Mango/train.csv')\n",
        "reader = csv.reader(csvfile)\n",
        "'''"
      ],
      "execution_count": null,
      "outputs": []
    },
    {
      "cell_type": "code",
      "metadata": {
        "colab": {
          "base_uri": "https://localhost:8080/",
          "height": 35
        },
        "id": "z4JBjf0skkHh",
        "outputId": "d6a00d07-ef48-41c3-dc2d-56af4f8c93e3"
      },
      "source": [
        "'''\n",
        "labels = []\n",
        "for line in csvfile:\n",
        "  tmp = [line[0],line[1]]\n",
        "  labels.append(tmp)\n",
        "\n",
        "picnum = len(labels)\n",
        "print(picnum)\n",
        "'''"
      ],
      "execution_count": null,
      "outputs": [
        {
          "output_type": "execute_result",
          "data": {
            "application/vnd.google.colaboratory.intrinsic+json": {
              "type": "string"
            },
            "text/plain": [
              "'\\nlabels = []\\nfor line in csvfile:\\n  tmp = [line[0],line[1]]\\n  labels.append(tmp)\\n\\npicnum = len(labels)\\nprint(picnum)\\n'"
            ]
          },
          "metadata": {
            "tags": []
          },
          "execution_count": 1
        }
      ]
    },
    {
      "cell_type": "code",
      "metadata": {
        "colab": {
          "base_uri": "https://localhost:8080/",
          "height": 35
        },
        "id": "mHFlHgoFnVY7",
        "outputId": "fc721466-b9c7-4240-b2ec-1681ce3547ad"
      },
      "source": [
        "'''\n",
        "x = []\n",
        "y = []\n",
        "\n",
        "for i in range(len(labels)):\n",
        "  print(labels)\n",
        "  labels[i][i] = labels[i][i].replace('A')\n",
        "  labels[i][i] = labels[i][i].replace('B')\n",
        "  labels[i][i] = labels[i][i].replace('C')\n",
        "'''"
      ],
      "execution_count": null,
      "outputs": [
        {
          "output_type": "execute_result",
          "data": {
            "application/vnd.google.colaboratory.intrinsic+json": {
              "type": "string"
            },
            "text/plain": [
              "\"\\nx = []\\ny = []\\n\\nfor i in range(len(labels)):\\n  print(labels)\\n  labels[i][i] = labels[i][i].replace('A')\\n  labels[i][i] = labels[i][i].replace('B')\\n  labels[i][i] = labels[i][i].replace('C')\\n\""
            ]
          },
          "metadata": {
            "tags": []
          },
          "execution_count": 2
        }
      ]
    },
    {
      "cell_type": "markdown",
      "metadata": {
        "id": "xeZQTmV8OFnT"
      },
      "source": [
        "將上傳的芒果檔案解壓縮"
      ]
    },
    {
      "cell_type": "code",
      "metadata": {
        "id": "wAsd4NAn3qzS"
      },
      "source": [
        "import os\n",
        "import zipfile\n",
        "\n",
        "\n",
        "# zipfile example\n",
        "def zip_list(file_path):\n",
        "    zf = zipfile.ZipFile(file_path)\n",
        "    zf.extractall()\n",
        "\n",
        "\n",
        "if __name__ == '__main__':\n",
        "    file_path = '/content/drive/MyDrive/Colab/Mango.zip'\n",
        "    zip_list(file_path)"
      ],
      "execution_count": null,
      "outputs": []
    },
    {
      "cell_type": "markdown",
      "metadata": {
        "id": "eIebc036Ob2g"
      },
      "source": [
        "讀取Train的CSV檔案"
      ]
    },
    {
      "cell_type": "code",
      "metadata": {
        "colab": {
          "base_uri": "https://localhost:8080/"
        },
        "id": "fGVs-wP40Knk",
        "outputId": "2677d648-2499-4ae8-efe7-98c0ac36fa47"
      },
      "source": [
        "traincsv = pd.read_csv('/content/train.csv')\n",
        "print(traincsv.shape)\n",
        "#print(traincsv.columns)\n",
        "#print(traincsv.shape[0])"
      ],
      "execution_count": null,
      "outputs": [
        {
          "output_type": "stream",
          "text": [
            "(6130, 2)\n"
          ],
          "name": "stdout"
        }
      ]
    },
    {
      "cell_type": "markdown",
      "metadata": {
        "id": "E44UuR9YOu4r"
      },
      "source": [
        "讀取Test的CSV檔案"
      ]
    },
    {
      "cell_type": "code",
      "metadata": {
        "colab": {
          "base_uri": "https://localhost:8080/"
        },
        "id": "ztman3E_13Re",
        "outputId": "0ab64a77-2e79-4cb1-ad1a-dc10f54112b3"
      },
      "source": [
        "testcsv = pd.read_csv('/content/Test.csv')\n",
        "print(testcsv.shape)\n",
        "#testcsv.head()\n",
        "#print(testcsv.columns)\n",
        "#print(traincsv.shape[0])"
      ],
      "execution_count": null,
      "outputs": [
        {
          "output_type": "stream",
          "text": [
            "(250, 2)\n"
          ],
          "name": "stdout"
        }
      ]
    },
    {
      "cell_type": "code",
      "metadata": {
        "colab": {
          "base_uri": "https://localhost:8080/",
          "height": 35
        },
        "id": "wYaKm4uQOGKN",
        "outputId": "1a5617f9-2f34-4ef4-ea3c-0cf8a5adba44"
      },
      "source": [
        "'''\n",
        "for i in range(traincsv.shape[0]):\n",
        "  print(str(i)+ str('.jpg') )\n",
        "'''"
      ],
      "execution_count": null,
      "outputs": [
        {
          "output_type": "execute_result",
          "data": {
            "application/vnd.google.colaboratory.intrinsic+json": {
              "type": "string"
            },
            "text/plain": [
              "\"\\nfor i in range(traincsv.shape[0]):\\n  print(str(i)+ str('.jpg') )\\n\""
            ]
          },
          "metadata": {
            "tags": []
          },
          "execution_count": 19
        }
      ]
    },
    {
      "cell_type": "code",
      "metadata": {
        "colab": {
          "base_uri": "https://localhost:8080/",
          "height": 35
        },
        "id": "eTCqJu-GLRxV",
        "outputId": "01f76227-7622-46bc-8a9a-43855bce53bc"
      },
      "source": [
        "'''\n",
        "get_filename = '/content/Mango/Train_Image'\n",
        "path = os.listdir(get_filename)\n",
        "print(path)\n",
        "'''\n",
        "'''\n",
        "for i in range path:\n",
        "  print(i)\n",
        "'''\n",
        "\n",
        "'''\n",
        "get_filename = '/content/Mango/Train_Image/'\n",
        "path = os.listdir(get_filename)\n",
        "\n",
        "print(path)\n",
        "'''\n",
        "\n",
        "'''\n",
        "def read_filename(path):\n",
        "\n",
        "  for imagefiles in path:\n",
        "    img = cv2.imread(get_filename+ '/' +imagefiles)\n",
        "    #cv2_imshow(img)\n",
        "    \n",
        "    \n",
        "  return  \n",
        "'''"
      ],
      "execution_count": null,
      "outputs": [
        {
          "output_type": "execute_result",
          "data": {
            "application/vnd.google.colaboratory.intrinsic+json": {
              "type": "string"
            },
            "text/plain": [
              "\"\\ndef read_filename(path):\\n\\n  for imagefiles in path:\\n    img = cv2.imread(get_filename+ '/' +imagefiles)\\n    #cv2_imshow(img)\\n    \\n    \\n  return  \\n\""
            ]
          },
          "metadata": {
            "tags": []
          },
          "execution_count": 18
        }
      ]
    },
    {
      "cell_type": "markdown",
      "metadata": {
        "id": "gYN4-XXDPB5f"
      },
      "source": [
        "查看被分配到的GPU規格，最近colab開始限制使用量"
      ]
    },
    {
      "cell_type": "code",
      "metadata": {
        "colab": {
          "base_uri": "https://localhost:8080/"
        },
        "id": "6EnJTcnx8lQa",
        "outputId": "2f2d2b91-a9bb-4794-c411-a7435bdb3087"
      },
      "source": [
        "!nvidia-smi"
      ],
      "execution_count": null,
      "outputs": [
        {
          "output_type": "stream",
          "text": [
            "Fri Apr 30 13:23:15 2021       \n",
            "+-----------------------------------------------------------------------------+\n",
            "| NVIDIA-SMI 465.19.01    Driver Version: 460.32.03    CUDA Version: 11.2     |\n",
            "|-------------------------------+----------------------+----------------------+\n",
            "| GPU  Name        Persistence-M| Bus-Id        Disp.A | Volatile Uncorr. ECC |\n",
            "| Fan  Temp  Perf  Pwr:Usage/Cap|         Memory-Usage | GPU-Util  Compute M. |\n",
            "|                               |                      |               MIG M. |\n",
            "|===============================+======================+======================|\n",
            "|   0  Tesla K80           Off  | 00000000:00:04.0 Off |                    0 |\n",
            "| N/A   55C    P0    58W / 149W |   2311MiB / 11441MiB |      0%      Default |\n",
            "|                               |                      |                  N/A |\n",
            "+-------------------------------+----------------------+----------------------+\n",
            "                                                                               \n",
            "+-----------------------------------------------------------------------------+\n",
            "| Processes:                                                                  |\n",
            "|  GPU   GI   CI        PID   Type   Process name                  GPU Memory |\n",
            "|        ID   ID                                                   Usage      |\n",
            "|=============================================================================|\n",
            "+-----------------------------------------------------------------------------+\n"
          ],
          "name": "stdout"
        }
      ]
    },
    {
      "cell_type": "markdown",
      "metadata": {
        "id": "-FP1MzMvPaR-"
      },
      "source": [
        "安裝所需要的環境套件"
      ]
    },
    {
      "cell_type": "code",
      "metadata": {
        "id": "nLTDeZjDpyNv"
      },
      "source": [
        "import keras  \n",
        "\n",
        "from keras.models import Sequential  \n",
        "\n",
        "from keras.layers import Dense, Dropout, Flatten  \n",
        "\n",
        "from keras.layers import Conv2D, MaxPooling2D  \n",
        "\n",
        "from keras.utils import to_categorical  \n",
        "\n",
        "from keras.preprocessing import image  \n",
        "\n",
        "import numpy as np  \n",
        "\n",
        "import pandas as pd  \n",
        "\n",
        "import matplotlib.pyplot as plt  \n",
        "\n",
        "from sklearn.model_selection import train_test_split  \n",
        "\n",
        "from tqdm import tqdm  \n",
        "\n",
        "%matplotlib inline  "
      ],
      "execution_count": null,
      "outputs": []
    },
    {
      "cell_type": "code",
      "metadata": {
        "id": "NfuSP4zi31FX"
      },
      "source": [
        "import keras\n",
        "from keras.models import Sequential\n",
        "from keras.layers import Dense, Dropout, Flatten\n",
        "from keras.layers import Conv2D, MaxPooling2D\n",
        "from keras.utils import to_categorical\n",
        "from keras.preprocessing import image\n",
        "import numpy as np\n",
        "import pandas as pd\n",
        "import matplotlib.pyplot as plt\n",
        "from sklearn.model_selection import train_test_split\n",
        "from keras.utils import to_categorical\n",
        "from tqdm import tqdm"
      ],
      "execution_count": null,
      "outputs": []
    },
    {
      "cell_type": "markdown",
      "metadata": {
        "id": "8lLr7hYvPydg"
      },
      "source": [
        "讀取芒果訓練圖片"
      ]
    },
    {
      "cell_type": "code",
      "metadata": {
        "colab": {
          "base_uri": "https://localhost:8080/"
        },
        "id": "TvZShOi81JbO",
        "outputId": "1e25117f-6465-45c2-f870-5ac3c610c390"
      },
      "source": [
        "import cv2 \n",
        "from google.colab.patches import cv2_imshow\n",
        "import os\n",
        "import numpy as np\n",
        "import pandas as pd\n",
        "from PIL import Image\n",
        "\n",
        "get_filename = '/content/Mango/Train_Image'\n",
        "path = os.listdir(get_filename)\n",
        "\n",
        "train_image = []  \n",
        "\n",
        "\n",
        "for i in path:  \n",
        "\n",
        "  img = image.load_img(get_filename + '/' + str(i),target_size=(100,100,3),grayscale=False)  \n",
        "\n",
        "  img = np.array(img)/255\n",
        " \n",
        "  #img_array = np.array(img) \n",
        "\n",
        "  train_image.append(img)  \n",
        "  \n",
        "X = np.array(train_image) \n",
        "Xr = X.reshape(6130,100*100*3)\n",
        "print(Xr.shape)"
      ],
      "execution_count": null,
      "outputs": [
        {
          "output_type": "stream",
          "text": [
            "(6130, 30000)\n"
          ],
          "name": "stdout"
        }
      ]
    },
    {
      "cell_type": "markdown",
      "metadata": {
        "id": "CXMEI0XmQp35"
      },
      "source": [
        "讀取芒果測試圖片"
      ]
    },
    {
      "cell_type": "code",
      "metadata": {
        "colab": {
          "base_uri": "https://localhost:8080/"
        },
        "id": "ct8WoxXX2emH",
        "outputId": "3cf6de20-b506-4fb9-a224-bdd123f77875"
      },
      "source": [
        "get_testfilename = '/content/Mango/Test_Image'\n",
        "testpath = os.listdir(get_testfilename)\n",
        "\n",
        "test_image = []  \n",
        "\n",
        "\n",
        "for j in testpath:  \n",
        "  \n",
        "\n",
        "  testimg = image.load_img(get_testfilename + '/' + str(j),target_size=(100,100,3),grayscale=False)  \n",
        "\n",
        "  testimg = np.array(testimg)/255\n",
        " \n",
        "  #img_array = np.array(img) \n",
        "\n",
        "  test_image.append(testimg)  \n",
        "  \n",
        "x = np.array(test_image) \n",
        "xr = x.reshape(250,100*100*3)\n",
        "print(xr.shape)\n"
      ],
      "execution_count": null,
      "outputs": [
        {
          "output_type": "stream",
          "text": [
            "(250, 30000)\n"
          ],
          "name": "stdout"
        }
      ]
    },
    {
      "cell_type": "code",
      "metadata": {
        "colab": {
          "base_uri": "https://localhost:8080/",
          "height": 35
        },
        "id": "xvQ0yE-g25RS",
        "outputId": "e88a4016-d22b-40c2-8d91-63b8c4f18edf"
      },
      "source": [
        "'''\n",
        "plt.imshow(X[2])\n",
        "traincsv['label'][2]\n",
        "\n",
        "plt.show(x[3])\n",
        "testcsv['label'][3]\n",
        "'''"
      ],
      "execution_count": null,
      "outputs": [
        {
          "output_type": "execute_result",
          "data": {
            "application/vnd.google.colaboratory.intrinsic+json": {
              "type": "string"
            },
            "text/plain": [
              "\"\\nplt.imshow(X[2])\\ntraincsv['label'][2]\\n\\nplt.show(x[3])\\ntestcsv['label'][3]\\n\""
            ]
          },
          "metadata": {
            "tags": []
          },
          "execution_count": 6
        }
      ]
    },
    {
      "cell_type": "markdown",
      "metadata": {
        "id": "8LebLBTOQy-S"
      },
      "source": [
        "讀取訓練CSV檔案，當作標籤"
      ]
    },
    {
      "cell_type": "code",
      "metadata": {
        "id": "TtdCtSeRyKBh",
        "colab": {
          "base_uri": "https://localhost:8080/"
        },
        "outputId": "8e03bcf2-3953-4e43-e302-2298775baf9b"
      },
      "source": [
        "Y = traincsv['label'].values\n",
        "\n",
        "Y = to_categorical(Y)\n",
        "print(Y.shape)"
      ],
      "execution_count": null,
      "outputs": [
        {
          "output_type": "stream",
          "text": [
            "(6130, 3)\n"
          ],
          "name": "stdout"
        }
      ]
    },
    {
      "cell_type": "markdown",
      "metadata": {
        "id": "0kBNyTv_Q5Sn"
      },
      "source": [
        "讀取測試CSV檔案，當作標籤"
      ]
    },
    {
      "cell_type": "code",
      "metadata": {
        "colab": {
          "base_uri": "https://localhost:8080/"
        },
        "id": "-cXsCVH28y2T",
        "outputId": "3baafb6d-57d8-42da-f6cf-485412cc89db"
      },
      "source": [
        "y = testcsv['label'].values\n",
        "\n",
        "y = to_categorical(y)\n",
        "print(y.shape)"
      ],
      "execution_count": null,
      "outputs": [
        {
          "output_type": "stream",
          "text": [
            "(250, 3)\n"
          ],
          "name": "stdout"
        }
      ]
    },
    {
      "cell_type": "markdown",
      "metadata": {
        "id": "lvei5KG_Q74U"
      },
      "source": [
        "建構CNN模型"
      ]
    },
    {
      "cell_type": "code",
      "metadata": {
        "colab": {
          "base_uri": "https://localhost:8080/"
        },
        "id": "t9lDp59kzjt1",
        "outputId": "2e9904d4-afd8-4937-8e7e-c42c474c0ae5"
      },
      "source": [
        "X_train, x_test, Y_train, y_test = (X,x,Y,y)\n",
        "\n",
        "\n",
        "model = Sequential()\n",
        "model.add(Conv2D(32, kernel_size=(3, 3),activation='relu',input_shape=(100,100,3)))\n",
        "#model.add(Conv2D(64, (3, 3), activation='relu'))\n",
        "model.add(MaxPooling2D(pool_size=(2, 2)))\n",
        "\n",
        "#model.add(Dropout(0.25))\n",
        "model.add(Flatten())\n",
        "model.add(Dense(128, activation='relu'))\n",
        "#model.add(Dropout(0.5))\n",
        "model.add(Dense(3, activation='softmax'))\n",
        "\n",
        "model.compile(loss='categorical_crossentropy',optimizer='Adam',metrics=['accuracy'])\n",
        "model.summary()\n",
        "\n",
        "\n",
        "'''\n",
        "model = Sequential( name = 'CNN_Model' )\n",
        "model.add( Conv2D( 32, kernel_size = (3,3),input_shape = (100,100,3), name = 'Convolution' ) )\n",
        "model.add( MaxPooling2D( pool_size = (2,2), name = 'Pooling' ) )\n",
        "model.add( Conv2D( 64, kernel_size = (3,3),input_shape = (100,100,3), name = 'Convolution2' ) )\n",
        "model.add( MaxPooling2D( pool_size = (2,2), name = 'Pooling2' ) )\n",
        "model.add( Conv2D( 128, kernel_size = (3,3),input_shape = (100,100,3), name = 'Convolution3' ) )\n",
        "model.add( MaxPooling2D( pool_size = (2,2), name = 'Pooling3' ) )\n",
        "model.add( Conv2D( 256, kernel_size = (3,3),input_shape = (100,100,3), name = 'Convolution4' ) )\n",
        "model.add( MaxPooling2D( pool_size = (2,2), name = 'Pooling4' ) )\n",
        "model.add( Flatten( name = 'Flatten' ) )\n",
        "model.add( Dropout( 0.5, name = 'Dropout_1' ) )\n",
        "model.add( Dense(512, activation = 'relu', name = 'Dense' ) )\n",
        "model.add( Dropout( 0.5, name = 'Dropout_2' ) )\n",
        "model.add( Dense( 3, activation = 'softmax', name = 'Dense2' ) )\n",
        "model.compile( optimizer = 'Adam',loss = 'categorical_crossentropy',metrics = ['accuracy'] )\n",
        "\n",
        "model.summary()\n",
        "'''\n",
        "\n",
        "\n",
        "\n",
        "\n",
        "\n",
        "\n",
        "\n",
        "\n",
        "\n",
        "model.save(\"chinese_mod\")\n"
      ],
      "execution_count": null,
      "outputs": [
        {
          "output_type": "stream",
          "text": [
            "Model: \"sequential\"\n",
            "_________________________________________________________________\n",
            "Layer (type)                 Output Shape              Param #   \n",
            "=================================================================\n",
            "conv2d (Conv2D)              (None, 98, 98, 32)        896       \n",
            "_________________________________________________________________\n",
            "max_pooling2d (MaxPooling2D) (None, 49, 49, 32)        0         \n",
            "_________________________________________________________________\n",
            "flatten (Flatten)            (None, 76832)             0         \n",
            "_________________________________________________________________\n",
            "dense (Dense)                (None, 128)               9834624   \n",
            "_________________________________________________________________\n",
            "dense_1 (Dense)              (None, 3)                 387       \n",
            "=================================================================\n",
            "Total params: 9,835,907\n",
            "Trainable params: 9,835,907\n",
            "Non-trainable params: 0\n",
            "_________________________________________________________________\n",
            "INFO:tensorflow:Assets written to: chinese_mod/assets\n"
          ],
          "name": "stdout"
        }
      ]
    },
    {
      "cell_type": "markdown",
      "metadata": {
        "id": "tzkbMjIYRF--"
      },
      "source": [
        "訓練集訓練"
      ]
    },
    {
      "cell_type": "code",
      "metadata": {
        "colab": {
          "base_uri": "https://localhost:8080/"
        },
        "id": "1eenrKA1Amgv",
        "outputId": "b7189947-1ee0-4512-d557-87e776b6696b"
      },
      "source": [
        "model.fit(X_train, Y_train, epochs=10)"
      ],
      "execution_count": null,
      "outputs": [
        {
          "output_type": "stream",
          "text": [
            "Epoch 1/10\n",
            "192/192 [==============================] - 4s 17ms/step - loss: 1.7365 - accuracy: 0.3476\n",
            "Epoch 2/10\n",
            "192/192 [==============================] - 3s 16ms/step - loss: 1.0783 - accuracy: 0.4162\n",
            "Epoch 3/10\n",
            "192/192 [==============================] - 3s 17ms/step - loss: 1.0101 - accuracy: 0.5228\n",
            "Epoch 4/10\n",
            "192/192 [==============================] - 3s 17ms/step - loss: 0.8452 - accuracy: 0.6388\n",
            "Epoch 5/10\n",
            "192/192 [==============================] - 3s 16ms/step - loss: 0.5816 - accuracy: 0.7862\n",
            "Epoch 6/10\n",
            "192/192 [==============================] - 3s 17ms/step - loss: 0.3448 - accuracy: 0.8932\n",
            "Epoch 7/10\n",
            "192/192 [==============================] - 3s 16ms/step - loss: 0.1826 - accuracy: 0.9566\n",
            "Epoch 8/10\n",
            "192/192 [==============================] - 3s 17ms/step - loss: 0.1006 - accuracy: 0.9831\n",
            "Epoch 9/10\n",
            "192/192 [==============================] - 3s 16ms/step - loss: 0.0646 - accuracy: 0.9903\n",
            "Epoch 10/10\n",
            "192/192 [==============================] - 3s 17ms/step - loss: 0.0397 - accuracy: 0.9972\n"
          ],
          "name": "stdout"
        },
        {
          "output_type": "execute_result",
          "data": {
            "text/plain": [
              "<tensorflow.python.keras.callbacks.History at 0x7fa44050c750>"
            ]
          },
          "metadata": {
            "tags": []
          },
          "execution_count": 13
        }
      ]
    },
    {
      "cell_type": "code",
      "metadata": {
        "id": "AN-UrBtr10tI"
      },
      "source": [
        "'''\n",
        "model.fit(x_test, y_test, epochs=10)\n",
        "'''"
      ],
      "execution_count": null,
      "outputs": []
    },
    {
      "cell_type": "markdown",
      "metadata": {
        "id": "fN66Ru7ORQmi"
      },
      "source": [
        "顯示訓練及測試集的loss和accuracy的結果"
      ]
    },
    {
      "cell_type": "code",
      "metadata": {
        "id": "KQZ5-nns3eKf",
        "colab": {
          "base_uri": "https://localhost:8080/"
        },
        "outputId": "5699f5c5-3466-4606-ec60-95d262af1c28"
      },
      "source": [
        "loss, accuracy = model.evaluate(X_train, Y_train)\n",
        "print(\"訓練資料集的準確度 = {:.4f}\".format(accuracy))\n",
        "loss, accuracy = model.evaluate(x_test, y_test)\n",
        "print(\"測試資料集的準確度 = {:.4f}\".format(accuracy))"
      ],
      "execution_count": null,
      "outputs": [
        {
          "output_type": "stream",
          "text": [
            "192/192 [==============================] - 3s 15ms/step - loss: 1.1062e-04 - accuracy: 1.0000\n",
            "訓練資料集的準確度 = 1.0000\n",
            "8/8 [==============================] - 0s 14ms/step - loss: 0.7048 - accuracy: 0.8560\n",
            "測試資料集的準確度 = 0.8560\n"
          ],
          "name": "stdout"
        }
      ]
    },
    {
      "cell_type": "markdown",
      "metadata": {
        "id": "-BUfid8vRX6Z"
      },
      "source": [
        "改變資料型態(dimension)\n",
        "4D─2D"
      ]
    },
    {
      "cell_type": "code",
      "metadata": {
        "colab": {
          "base_uri": "https://localhost:8080/"
        },
        "id": "-2mc7mdtu1_D",
        "outputId": "5252a6ae-f19a-4723-d442-a5dc09a7acc6"
      },
      "source": [
        "print(X_train.shape)\n",
        "print(Y_train.shape)\n",
        "print(x_test.shape)\n",
        "print(y_test.shape)\n",
        "print('____________________')\n",
        "X_trainr = X_train.reshape(6130,30000)\n",
        "Y_trainr = Y_train.reshape(6130,3)\n",
        "x_testr = x_test.reshape(250,30000)\n",
        "y_testr = y_test.reshape(250,3)"
      ],
      "execution_count": null,
      "outputs": [
        {
          "output_type": "stream",
          "text": [
            "(6130, 100, 100, 3)\n",
            "(6130, 3)\n",
            "(250, 100, 100, 3)\n",
            "(250, 3)\n",
            "____________________\n"
          ],
          "name": "stdout"
        }
      ]
    },
    {
      "cell_type": "markdown",
      "metadata": {
        "id": "orssetNoRpnp"
      },
      "source": [
        "繪製混淆矩陣"
      ]
    },
    {
      "cell_type": "code",
      "metadata": {
        "id": "BwcLJFYvARxC",
        "colab": {
          "base_uri": "https://localhost:8080/",
          "height": 393
        },
        "outputId": "608e98e0-0bcf-4ae8-eb4b-55109033d914"
      },
      "source": [
        "import numpy as np\n",
        "import pandas as pd\n",
        "import math\n",
        "import scipy.stats as sci\n",
        "from sklearn.model_selection import train_test_split\n",
        "from sklearn import ensemble, metrics\n",
        "from sklearn.metrics import confusion_matrix\n",
        "from sklearn.metrics import classification_report \n",
        "from sklearn.metrics import confusion_matrix\n",
        "from sklearn.metrics import accuracy_score\n",
        "from sklearn.metrics import precision_score\n",
        "from sklearn.metrics import recall_score\n",
        "from sklearn.metrics import f1_score\n",
        "\n",
        "forest = ensemble.RandomForestClassifier(n_estimators=10)\n",
        "forest_fit = forest.fit(x_testr, y_testr)\n",
        "test_y_predicted = forest.predict(x_testr)\n",
        "accuracy = metrics.accuracy_score(y_testr, test_y_predicted)\n",
        "C = confusion_matrix(y_testr.argmax(axis=1), test_y_predicted.argmax(axis=1))\n",
        "print(\"Score\",forest.score(x_testr, y_testr))\n",
        "print(accuracy)\n",
        "print(C)\n",
        "print(classification_report(y_testr, test_y_predicted))\n",
        "\n",
        "\n",
        "\n",
        "'''\n",
        "import matplotlib.pyplot as plt\n",
        "import numpy as np\n",
        "cm = metrics.confusion_matrix(y_testr.argmax(axis=1), test_y_predicted.argmax(axis=1))\n",
        "#print(sklearn.metrics.score(x_testr,y_testr))\n",
        "# or\n",
        "#cm = np.array([[1401,    0],[1112, 0]])\n",
        "plt.imshow(cm, cmap=plt.cm.Blues)\n",
        "plt.xlabel(\"Predicted labels\")\n",
        "plt.ylabel(\"True labels\")\n",
        "plt.xticks([], [])\n",
        "plt.yticks([], [])\n",
        "plt.title('Confusion matrix ')\n",
        "plt.colorbar()\n",
        "plt.show()\n",
        "'''"
      ],
      "execution_count": null,
      "outputs": [
        {
          "output_type": "stream",
          "text": [
            "Score 0.96\n",
            "0.96\n",
            "[[84  0  0]\n",
            " [ 3 93  0]\n",
            " [ 5  0 65]]\n",
            "              precision    recall  f1-score   support\n",
            "\n",
            "           0       1.00      0.98      0.99        84\n",
            "           1       1.00      0.97      0.98        96\n",
            "           2       1.00      0.93      0.96        70\n",
            "\n",
            "   micro avg       1.00      0.96      0.98       250\n",
            "   macro avg       1.00      0.96      0.98       250\n",
            "weighted avg       1.00      0.96      0.98       250\n",
            " samples avg       0.96      0.96      0.96       250\n",
            "\n"
          ],
          "name": "stdout"
        },
        {
          "output_type": "stream",
          "text": [
            "/usr/local/lib/python3.7/dist-packages/sklearn/metrics/_classification.py:1272: UndefinedMetricWarning: Precision and F-score are ill-defined and being set to 0.0 in samples with no predicted labels. Use `zero_division` parameter to control this behavior.\n",
            "  _warn_prf(average, modifier, msg_start, len(result))\n"
          ],
          "name": "stderr"
        },
        {
          "output_type": "execute_result",
          "data": {
            "application/vnd.google.colaboratory.intrinsic+json": {
              "type": "string"
            },
            "text/plain": [
              "'\\nimport matplotlib.pyplot as plt\\nimport numpy as np\\ncm = metrics.confusion_matrix(y_testr.argmax(axis=1), test_y_predicted.argmax(axis=1))\\n#print(sklearn.metrics.score(x_testr,y_testr))\\n# or\\n#cm = np.array([[1401,    0],[1112, 0]])\\nplt.imshow(cm, cmap=plt.cm.Blues)\\nplt.xlabel(\"Predicted labels\")\\nplt.ylabel(\"True labels\")\\nplt.xticks([], [])\\nplt.yticks([], [])\\nplt.title(\\'Confusion matrix \\')\\nplt.colorbar()\\nplt.show()\\n'"
            ]
          },
          "metadata": {
            "tags": []
          },
          "execution_count": 34
        }
      ]
    },
    {
      "cell_type": "code",
      "metadata": {
        "id": "N_jY6OkIZDsA"
      },
      "source": [
        "'''\n",
        "from sklearn.metrics import classification_report\n",
        "\n",
        "import itertools\n",
        "import matplotlib.pyplot as plt\n",
        "from sklearn.metrics import confusion_matrix\n",
        "import numpy as np\n",
        "'''"
      ],
      "execution_count": null,
      "outputs": []
    },
    {
      "cell_type": "code",
      "metadata": {
        "id": "N0biu2eRiGzM"
      },
      "source": [
        "'''\n",
        "def plot_confusion_matrix(cm, classes,\n",
        "                          normalize=False,\n",
        "                          title='Confusion matrix',\n",
        "                          cmap=plt.cm.Blues):\n",
        "    \"\"\"\n",
        "    This function prints and plots the confusion matrix.\n",
        "    Normalization can be applied by setting `normalize=True`.\n",
        "    \"\"\"\n",
        "    if normalize:\n",
        "        cm = cm.astype('float') / cm.sum(axis=1)[:, np.newaxis]\n",
        "        print(\"Normalized confusion matrix\")\n",
        "    else:\n",
        "        print('Confusion matrix, without normalization')\n",
        "\n",
        "    print(cm)\n",
        "\n",
        "    plt.imshow(cm, interpolation='nearest', cmap=cmap)\n",
        "    plt.title(title)\n",
        "    plt.colorbar()\n",
        "    tick_marks = np.arange(len(classes))\n",
        "    plt.xticks(tick_marks, classes, rotation=45)\n",
        "    plt.yticks(tick_marks, classes)\n",
        "\n",
        "    fmt = '.2f' if normalize else 'd'\n",
        "    thresh = cm.max() / 2.\n",
        "    for i, j in itertools.product(range(cm.shape[0]), range(cm.shape[1])):\n",
        "        plt.text(j, i, format(cm[i, j], fmt),\n",
        "                 horizontalalignment=\"center\",\n",
        "                 color=\"white\" if cm[i, j] > thresh else \"black\")\n",
        "\n",
        "    plt.ylabel('True label')\n",
        "    plt.xlabel('Predicted label')\n",
        "    plt.tight_layout()\n",
        "'''"
      ],
      "execution_count": null,
      "outputs": []
    },
    {
      "cell_type": "code",
      "metadata": {
        "id": "TCGT18X3iNwz"
      },
      "source": [
        "'''\n",
        "y_predict = m.predict(X_test, batch_size=None, verbose=0, steps=None)\n",
        "\n",
        "y_pred = convert_to_labels(y_predict)\n",
        "y_true = convert_to_labels(y_test)\n",
        "target_names = [ 'Hunger','Sleepy' ,'Diaper','Painful']\n",
        "print (\"month = \" + str(month))\n",
        "print(classification_report(y_true, y_pred, target_names=target_names))\n",
        "print (\"**************************************************************\")\n",
        "\n",
        "plt.figure()\n",
        "cnf_matrix = confusion_matrix(y_true, y_pred)\n",
        "plot_confusion_matrix(cnf_matrix, classes=target_names,normalize=True,\n",
        "                    title=\"month = \" + str(month) + ' confusion matrix')\n",
        "\n",
        "plt.show()\n",
        "'''"
      ],
      "execution_count": null,
      "outputs": []
    }
  ]
}