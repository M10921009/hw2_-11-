{
  "nbformat": 4,
  "nbformat_minor": 0,
  "metadata": {
    "accelerator": "GPU",
    "colab": {
      "name": "CIFAR_10.ipynb",
      "provenance": [],
      "collapsed_sections": []
    },
    "kernelspec": {
      "display_name": "Python 3",
      "name": "python3"
    },
    "language_info": {
      "name": "python"
    }
  },
  "cells": [
    {
      "cell_type": "code",
      "metadata": {
        "id": "rhbemcobSPFp"
      },
      "source": [
        "import os\n",
        "import numpy as np\n",
        "import matplotlib.pyplot as plt\n",
        "import pandas as pd\n",
        "\n",
        "from keras.models import Sequential, load_model\n",
        "from keras.datasets import cifar10\n",
        "from keras.utils import np_utils,plot_model\n",
        "from keras.layers import Dense, Dropout, Flatten, Conv2D, MaxPool2D"
      ],
      "execution_count": 1,
      "outputs": []
    },
    {
      "cell_type": "code",
      "metadata": {
        "id": "go6d25zVSPYU",
        "colab": {
          "base_uri": "https://localhost:8080/"
        },
        "outputId": "366549da-2874-4480-f47b-19cad95a8e8c"
      },
      "source": [
        "(X_train, Y_train), (X_test, Y_test) = cifar10.load_data()\n",
        "x_train = X_train.astype('float32')/255\n",
        "x_test = X_test.astype('float32')/255\n",
        "y_train = np_utils.to_categorical(Y_train)\n",
        "y_test = np_utils.to_categorical(Y_test)\n",
        "\n",
        "(X_train, Y_train), (X_test, Y_test) = cifar10.load_data()\n",
        "x_train = X_train.astype('float32')/255\n",
        "x_test = X_test.astype('float32')/255\n",
        "y_train = np_utils.to_categorical(Y_train)\n",
        "y_test = np_utils.to_categorical(Y_test)\n"
      ],
      "execution_count": 2,
      "outputs": [
        {
          "output_type": "stream",
          "text": [
            "Downloading data from https://www.cs.toronto.edu/~kriz/cifar-10-python.tar.gz\n",
            "170500096/170498071 [==============================] - 4s 0us/step\n"
          ],
          "name": "stdout"
        }
      ]
    },
    {
      "cell_type": "code",
      "metadata": {
        "id": "GjKIR6dnSR6z"
      },
      "source": [
        "model = Sequential()\n",
        "model.add(Conv2D(filters=64, kernel_size=3, input_shape=(32, 32, 3), activation='relu', padding='same'))\n",
        "model.add(Conv2D(filters=64, kernel_size=3, input_shape=(32, 32, 3), activation='relu', padding='same'))\n",
        "model.add(MaxPool2D(pool_size=2))\n",
        "\n",
        "model.add(Conv2D(filters=128, kernel_size=3, activation='relu', padding='same'))\n",
        "model.add(Conv2D(filters=128, kernel_size=3, activation='relu', padding='same'))\n",
        "model.add(MaxPool2D(pool_size=2))\n",
        "\n",
        "model.add(Conv2D(filters=128, kernel_size=3, activation='relu', padding='same'))\n",
        "model.add(Conv2D(filters=128, kernel_size=3, activation='relu', padding='same'))\n",
        "model.add(MaxPool2D(pool_size=2))\n",
        "\n",
        "model.add(Flatten())\n",
        "model.add(Dense(512, activation='relu'))\n",
        "model.add(Dropout(rate=0.25))\n",
        "model.add(Dense(10, activation='softmax'))"
      ],
      "execution_count": 3,
      "outputs": []
    },
    {
      "cell_type": "code",
      "metadata": {
        "colab": {
          "base_uri": "https://localhost:8080/"
        },
        "id": "h_jiVgy-SbRr",
        "outputId": "08cadb17-da3b-4c5b-e1db-342ab20f74b3"
      },
      "source": [
        "print(model.summary())"
      ],
      "execution_count": 4,
      "outputs": [
        {
          "output_type": "stream",
          "text": [
            "Model: \"sequential\"\n",
            "_________________________________________________________________\n",
            "Layer (type)                 Output Shape              Param #   \n",
            "=================================================================\n",
            "conv2d (Conv2D)              (None, 32, 32, 64)        1792      \n",
            "_________________________________________________________________\n",
            "conv2d_1 (Conv2D)            (None, 32, 32, 64)        36928     \n",
            "_________________________________________________________________\n",
            "max_pooling2d (MaxPooling2D) (None, 16, 16, 64)        0         \n",
            "_________________________________________________________________\n",
            "conv2d_2 (Conv2D)            (None, 16, 16, 128)       73856     \n",
            "_________________________________________________________________\n",
            "conv2d_3 (Conv2D)            (None, 16, 16, 128)       147584    \n",
            "_________________________________________________________________\n",
            "max_pooling2d_1 (MaxPooling2 (None, 8, 8, 128)         0         \n",
            "_________________________________________________________________\n",
            "conv2d_4 (Conv2D)            (None, 8, 8, 128)         147584    \n",
            "_________________________________________________________________\n",
            "conv2d_5 (Conv2D)            (None, 8, 8, 128)         147584    \n",
            "_________________________________________________________________\n",
            "max_pooling2d_2 (MaxPooling2 (None, 4, 4, 128)         0         \n",
            "_________________________________________________________________\n",
            "flatten (Flatten)            (None, 2048)              0         \n",
            "_________________________________________________________________\n",
            "dense (Dense)                (None, 512)               1049088   \n",
            "_________________________________________________________________\n",
            "dropout (Dropout)            (None, 512)               0         \n",
            "_________________________________________________________________\n",
            "dense_1 (Dense)              (None, 10)                5130      \n",
            "=================================================================\n",
            "Total params: 1,609,546\n",
            "Trainable params: 1,609,546\n",
            "Non-trainable params: 0\n",
            "_________________________________________________________________\n",
            "None\n"
          ],
          "name": "stdout"
        }
      ]
    },
    {
      "cell_type": "code",
      "metadata": {
        "colab": {
          "base_uri": "https://localhost:8080/"
        },
        "id": "BgOg6RcZSdg6",
        "outputId": "5a2c5dcd-ed5d-4d12-e7ee-b40f1872ed9e"
      },
      "source": [
        "model.compile(loss='categorical_crossentropy', optimizer='adam', metrics=['accuracy'])\n",
        "model.fit(x_train, y_train, epochs=10, batch_size=64, verbose=1)"
      ],
      "execution_count": 5,
      "outputs": [
        {
          "output_type": "stream",
          "text": [
            "Epoch 1/10\n",
            "782/782 [==============================] - 38s 9ms/step - loss: 1.8037 - accuracy: 0.3214\n",
            "Epoch 2/10\n",
            "782/782 [==============================] - 7s 9ms/step - loss: 1.0231 - accuracy: 0.6364\n",
            "Epoch 3/10\n",
            "782/782 [==============================] - 7s 9ms/step - loss: 0.7688 - accuracy: 0.7298\n",
            "Epoch 4/10\n",
            "782/782 [==============================] - 7s 9ms/step - loss: 0.6238 - accuracy: 0.7776\n",
            "Epoch 5/10\n",
            "782/782 [==============================] - 7s 9ms/step - loss: 0.4989 - accuracy: 0.8238\n",
            "Epoch 6/10\n",
            "782/782 [==============================] - 7s 9ms/step - loss: 0.4055 - accuracy: 0.8566\n",
            "Epoch 7/10\n",
            "782/782 [==============================] - 7s 9ms/step - loss: 0.3194 - accuracy: 0.8876\n",
            "Epoch 8/10\n",
            "782/782 [==============================] - 7s 9ms/step - loss: 0.2680 - accuracy: 0.9071\n",
            "Epoch 9/10\n",
            "782/782 [==============================] - 7s 9ms/step - loss: 0.2238 - accuracy: 0.9210\n",
            "Epoch 10/10\n",
            "782/782 [==============================] - 7s 9ms/step - loss: 0.1941 - accuracy: 0.9309\n"
          ],
          "name": "stdout"
        },
        {
          "output_type": "execute_result",
          "data": {
            "text/plain": [
              "<tensorflow.python.keras.callbacks.History at 0x7fe6904bf0d0>"
            ]
          },
          "metadata": {
            "tags": []
          },
          "execution_count": 5
        }
      ]
    },
    {
      "cell_type": "code",
      "metadata": {
        "colab": {
          "base_uri": "https://localhost:8080/",
          "height": 180
        },
        "id": "TJ0e51hVVeoU",
        "outputId": "2c24a5df-82f4-4a5e-b032-95652839c262"
      },
      "source": [
        "pirnt(x_train[1])\n",
        "print(y_train[1])"
      ],
      "execution_count": null,
      "outputs": [
        {
          "output_type": "error",
          "ename": "NameError",
          "evalue": "ignored",
          "traceback": [
            "\u001b[0;31m---------------------------------------------------------------------------\u001b[0m",
            "\u001b[0;31mNameError\u001b[0m                                 Traceback (most recent call last)",
            "\u001b[0;32m<ipython-input-39-ede8a6bccc56>\u001b[0m in \u001b[0;36m<module>\u001b[0;34m()\u001b[0m\n\u001b[0;32m----> 1\u001b[0;31m \u001b[0mpirnt\u001b[0m\u001b[0;34m(\u001b[0m\u001b[0mx_train\u001b[0m\u001b[0;34m[\u001b[0m\u001b[0;36m1\u001b[0m\u001b[0;34m]\u001b[0m\u001b[0;34m)\u001b[0m\u001b[0;34m\u001b[0m\u001b[0;34m\u001b[0m\u001b[0m\n\u001b[0m\u001b[1;32m      2\u001b[0m \u001b[0mprint\u001b[0m\u001b[0;34m(\u001b[0m\u001b[0my_train\u001b[0m\u001b[0;34m[\u001b[0m\u001b[0;36m1\u001b[0m\u001b[0;34m]\u001b[0m\u001b[0;34m)\u001b[0m\u001b[0;34m\u001b[0m\u001b[0;34m\u001b[0m\u001b[0m\n",
            "\u001b[0;31mNameError\u001b[0m: name 'pirnt' is not defined"
          ]
        }
      ]
    },
    {
      "cell_type": "code",
      "metadata": {
        "colab": {
          "base_uri": "https://localhost:8080/"
        },
        "id": "sXUQpX-zSgHj",
        "outputId": "c3268283-aaa9-43d1-935d-210d6fa5b169"
      },
      "source": [
        "loss, accuracy = model.evaluate(x_test, y_test)\n",
        "print('Test:')\n",
        "print('Loss:', loss)\n",
        "print('Accuracy:', accuracy)"
      ],
      "execution_count": 6,
      "outputs": [
        {
          "output_type": "stream",
          "text": [
            "313/313 [==============================] - 2s 4ms/step - loss: 0.9638 - accuracy: 0.7687\n",
            "Test:\n",
            "Loss: 0.9637547135353088\n",
            "Accuracy: 0.7687000036239624\n"
          ],
          "name": "stdout"
        }
      ]
    },
    {
      "cell_type": "code",
      "metadata": {
        "colab": {
          "base_uri": "https://localhost:8080/"
        },
        "id": "XDstDe8iTIlk",
        "outputId": "2854c6c6-9389-484d-9cb3-b3903b121d59"
      },
      "source": [
        "model.fit(x_train, y_train, epochs=10)"
      ],
      "execution_count": 7,
      "outputs": [
        {
          "output_type": "stream",
          "text": [
            "Epoch 1/10\n",
            "1563/1563 [==============================] - 11s 7ms/step - loss: 0.3610 - accuracy: 0.8736\n",
            "Epoch 2/10\n",
            "1563/1563 [==============================] - 10s 7ms/step - loss: 0.2769 - accuracy: 0.9048\n",
            "Epoch 3/10\n",
            "1563/1563 [==============================] - 10s 7ms/step - loss: 0.2501 - accuracy: 0.9139\n",
            "Epoch 4/10\n",
            "1563/1563 [==============================] - 10s 7ms/step - loss: 0.2385 - accuracy: 0.9180\n",
            "Epoch 5/10\n",
            "1563/1563 [==============================] - 10s 7ms/step - loss: 0.2231 - accuracy: 0.9247\n",
            "Epoch 6/10\n",
            "1563/1563 [==============================] - 10s 7ms/step - loss: 0.2137 - accuracy: 0.9273\n",
            "Epoch 7/10\n",
            "1563/1563 [==============================] - 10s 7ms/step - loss: 0.2070 - accuracy: 0.9310\n",
            "Epoch 8/10\n",
            "1563/1563 [==============================] - 10s 7ms/step - loss: 0.2015 - accuracy: 0.9327\n",
            "Epoch 9/10\n",
            "1563/1563 [==============================] - 10s 7ms/step - loss: 0.1898 - accuracy: 0.9360\n",
            "Epoch 10/10\n",
            "1563/1563 [==============================] - 10s 7ms/step - loss: 0.1925 - accuracy: 0.9370\n"
          ],
          "name": "stdout"
        },
        {
          "output_type": "execute_result",
          "data": {
            "text/plain": [
              "<tensorflow.python.keras.callbacks.History at 0x7fe6900e3dd0>"
            ]
          },
          "metadata": {
            "tags": []
          },
          "execution_count": 7
        }
      ]
    },
    {
      "cell_type": "code",
      "metadata": {
        "colab": {
          "base_uri": "https://localhost:8080/"
        },
        "id": "8jDpmgW-ZO8c",
        "outputId": "68a97e6d-bb4c-43fc-99b7-259b65eff5d2"
      },
      "source": [
        "model.fit(x_test, y_test, epochs=10)"
      ],
      "execution_count": 8,
      "outputs": [
        {
          "output_type": "stream",
          "text": [
            "Epoch 1/10\n",
            "313/313 [==============================] - 2s 7ms/step - loss: 0.8419 - accuracy: 0.7358\n",
            "Epoch 2/10\n",
            "313/313 [==============================] - 2s 7ms/step - loss: 0.5109 - accuracy: 0.8252\n",
            "Epoch 3/10\n",
            "313/313 [==============================] - 2s 7ms/step - loss: 0.3011 - accuracy: 0.8944\n",
            "Epoch 4/10\n",
            "313/313 [==============================] - 2s 7ms/step - loss: 0.1877 - accuracy: 0.9345\n",
            "Epoch 5/10\n",
            "313/313 [==============================] - 2s 7ms/step - loss: 0.1339 - accuracy: 0.9531\n",
            "Epoch 6/10\n",
            "313/313 [==============================] - 2s 7ms/step - loss: 0.1243 - accuracy: 0.9568\n",
            "Epoch 7/10\n",
            "313/313 [==============================] - 2s 7ms/step - loss: 0.1195 - accuracy: 0.9605\n",
            "Epoch 8/10\n",
            "313/313 [==============================] - 2s 7ms/step - loss: 0.1507 - accuracy: 0.9512\n",
            "Epoch 9/10\n",
            "313/313 [==============================] - 2s 7ms/step - loss: 0.1054 - accuracy: 0.9654\n",
            "Epoch 10/10\n",
            "313/313 [==============================] - 2s 7ms/step - loss: 0.1208 - accuracy: 0.9609\n"
          ],
          "name": "stdout"
        },
        {
          "output_type": "execute_result",
          "data": {
            "text/plain": [
              "<tensorflow.python.keras.callbacks.History at 0x7fe690107b90>"
            ]
          },
          "metadata": {
            "tags": []
          },
          "execution_count": 8
        }
      ]
    },
    {
      "cell_type": "code",
      "metadata": {
        "colab": {
          "base_uri": "https://localhost:8080/"
        },
        "id": "EY036NMgaBFk",
        "outputId": "fb6a59e8-e9b1-4ac8-a058-b125d39e4771"
      },
      "source": [
        "loss, accuracy = model.evaluate(x_train, y_train)\n",
        "print(\"訓練資料集的準確度 = {:.4f}\".format(accuracy))\n",
        "loss, accuracy = model.evaluate(x_test, y_test)\n",
        "print(\"測試資料集的準確度 = {:.4f}\".format(accuracy))"
      ],
      "execution_count": 10,
      "outputs": [
        {
          "output_type": "stream",
          "text": [
            "1563/1563 [==============================] - 6s 4ms/step - loss: 0.4890 - accuracy: 0.8666\n",
            "訓練資料集的準確度 = 0.8666\n",
            "313/313 [==============================] - 1s 4ms/step - loss: 0.0743 - accuracy: 0.9747\n",
            "測試資料集的準確度 = 0.9747\n"
          ],
          "name": "stdout"
        }
      ]
    },
    {
      "cell_type": "code",
      "metadata": {
        "colab": {
          "base_uri": "https://localhost:8080/"
        },
        "id": "6DfXM57Y13O0",
        "outputId": "e17fd909-869f-437e-933d-91b24fd46b55"
      },
      "source": [
        "print(x_train.shape)\n",
        "print(y_train.shape)\n",
        "print(x_test.shape)\n",
        "print(y_test.shape)\n",
        "print('____________________')\n",
        "x_trainr = x_train.reshape(50000,3072)\n",
        "y_trainr = y_train.reshape(50000,10)\n",
        "x_testr = x_test.reshape(10000,3072)\n",
        "y_testr = y_test.reshape(10000,10)"
      ],
      "execution_count": 11,
      "outputs": [
        {
          "output_type": "stream",
          "text": [
            "(50000, 32, 32, 3)\n",
            "(50000, 10)\n",
            "(10000, 32, 32, 3)\n",
            "(10000, 10)\n",
            "____________________\n"
          ],
          "name": "stdout"
        }
      ]
    },
    {
      "cell_type": "code",
      "metadata": {
        "colab": {
          "base_uri": "https://localhost:8080/"
        },
        "id": "nmEghjq6aJvB",
        "outputId": "9bd6fd09-6906-49ec-deb6-5c5c78b8312c"
      },
      "source": [
        "import numpy as np\n",
        "import pandas as pd\n",
        "import math\n",
        "import scipy.stats as sci\n",
        "from sklearn.model_selection import train_test_split\n",
        "from sklearn import ensemble, metrics\n",
        "from sklearn.metrics import confusion_matrix\n",
        "from sklearn.metrics import classification_report \n",
        "\n",
        "forest = ensemble.RandomForestClassifier(n_estimators=10)\n",
        "forest_fit = forest.fit(x_testr, y_testr)\n",
        "test_y_predicted = forest.predict(x_testr)\n",
        "accuracy = metrics.accuracy_score(y_testr, test_y_predicted)\n",
        "C = confusion_matrix(y_testr.argmax(axis=1), test_y_predicted.argmax(axis=1))\n",
        "print(\"Score\",forest.score(x_testr, y_testr))\n",
        "print(accuracy)\n",
        "print(C)\n",
        "print(classification_report(y_testr, test_y_predicted))"
      ],
      "execution_count": 13,
      "outputs": [
        {
          "output_type": "stream",
          "text": [
            "Score 0.8553\n",
            "0.8553\n",
            "[[1000    0    0    0    0    0    0    0    0    0]\n",
            " [ 145  855    0    0    0    0    0    0    0    0]\n",
            " [ 152    0  848    0    0    0    0    0    0    0]\n",
            " [ 192    0    0  808    0    0    0    0    0    0]\n",
            " [ 138    0    0    0  862    0    0    0    0    0]\n",
            " [ 153    0    0    0    0  847    0    0    0    0]\n",
            " [ 135    0    0    0    0    0  865    0    0    0]\n",
            " [ 155    0    0    0    0    0    0  845    0    0]\n",
            " [ 127    0    0    0    0    0    0    0  873    0]\n",
            " [ 131    0    0    0    0    0    0    0    0  869]]\n",
            "              precision    recall  f1-score   support\n",
            "\n",
            "           0       1.00      0.88      0.94      1000\n",
            "           1       1.00      0.85      0.92      1000\n",
            "           2       1.00      0.85      0.92      1000\n",
            "           3       1.00      0.81      0.89      1000\n",
            "           4       1.00      0.86      0.93      1000\n",
            "           5       1.00      0.85      0.92      1000\n",
            "           6       1.00      0.86      0.93      1000\n",
            "           7       1.00      0.84      0.92      1000\n",
            "           8       1.00      0.87      0.93      1000\n",
            "           9       1.00      0.87      0.93      1000\n",
            "\n",
            "   micro avg       1.00      0.86      0.92     10000\n",
            "   macro avg       1.00      0.86      0.92     10000\n",
            "weighted avg       1.00      0.86      0.92     10000\n",
            " samples avg       0.86      0.86      0.86     10000\n",
            "\n"
          ],
          "name": "stdout"
        },
        {
          "output_type": "stream",
          "text": [
            "/usr/local/lib/python3.7/dist-packages/sklearn/metrics/_classification.py:1272: UndefinedMetricWarning: Precision and F-score are ill-defined and being set to 0.0 in samples with no predicted labels. Use `zero_division` parameter to control this behavior.\n",
            "  _warn_prf(average, modifier, msg_start, len(result))\n"
          ],
          "name": "stderr"
        }
      ]
    },
    {
      "cell_type": "code",
      "metadata": {
        "id": "cHMnpUUbUIyy"
      },
      "source": [
        ""
      ],
      "execution_count": null,
      "outputs": []
    }
  ]
}