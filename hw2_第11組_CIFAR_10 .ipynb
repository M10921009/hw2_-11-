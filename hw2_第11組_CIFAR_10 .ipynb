{
  "nbformat": 4,
  "nbformat_minor": 0,
  "metadata": {
    "accelerator": "GPU",
    "colab": {
      "name": "CIFAR_10.ipynb",
      "provenance": [],
      "collapsed_sections": []
    },
    "kernelspec": {
      "display_name": "Python 3",
      "name": "python3"
    },
    "language_info": {
      "name": "python"
    }
  },
  "cells": [
    {
      "cell_type": "markdown",
      "metadata": {
        "id": "Owq2kPLLUltb"
      },
      "source": [
        "安裝所需的環境與套件"
      ]
    },
    {
      "cell_type": "code",
      "metadata": {
        "id": "rhbemcobSPFp"
      },
      "source": [
        "import os\n",
        "import numpy as np\n",
        "import matplotlib.pyplot as plt\n",
        "import pandas as pd\n",
        "\n",
        "from keras.models import Sequential, load_model\n",
        "from keras.datasets import cifar10\n",
        "from keras.utils import np_utils,plot_model\n",
        "from keras.layers import Dense, Dropout, Flatten, Conv2D, MaxPool2D"
      ],
      "execution_count": null,
      "outputs": []
    },
    {
      "cell_type": "markdown",
      "metadata": {
        "id": "-hjmReTTUqCW"
      },
      "source": [
        "載入cifar10資料集，並且分為訓練集(圖像與CSV)與測試集(圖像與CSV)"
      ]
    },
    {
      "cell_type": "code",
      "metadata": {
        "id": "go6d25zVSPYU"
      },
      "source": [
        "(X_train, Y_train), (X_test, Y_test) = cifar10.load_data()\n",
        "x_train = X_train.astype('float32')/255\n",
        "x_test = X_test.astype('float32')/255\n",
        "y_train = np_utils.to_categorical(Y_train)\n",
        "y_test = np_utils.to_categorical(Y_test)\n",
        "\n",
        "(X_train, Y_train), (X_test, Y_test) = cifar10.load_data()\n",
        "x_train = X_train.astype('float32')/255\n",
        "x_test = X_test.astype('float32')/255\n",
        "y_train = np_utils.to_categorical(Y_train)\n",
        "y_test = np_utils.to_categorical(Y_test)\n"
      ],
      "execution_count": null,
      "outputs": []
    },
    {
      "cell_type": "markdown",
      "metadata": {
        "id": "9RAH4MxMWJv8"
      },
      "source": [
        "建構訓練的CNN模型"
      ]
    },
    {
      "cell_type": "code",
      "metadata": {
        "id": "GjKIR6dnSR6z",
        "colab": {
          "base_uri": "https://localhost:8080/"
        },
        "outputId": "471fb40e-085e-46e3-d8c2-a1b6289666f6"
      },
      "source": [
        "'''\n",
        "model = Sequential()\n",
        "model.add(Conv2D(filters=64, kernel_size=3, input_shape=(32, 32, 3), activation='relu', padding='same'))\n",
        "model.add(Conv2D(filters=64, kernel_size=3, input_shape=(32, 32, 3), activation='relu', padding='same'))\n",
        "model.add(MaxPool2D(pool_size=2))\n",
        "\n",
        "model.add(Conv2D(filters=128, kernel_size=3, activation='relu', padding='same'))\n",
        "model.add(Conv2D(filters=128, kernel_size=3, activation='relu', padding='same'))\n",
        "model.add(MaxPool2D(pool_size=2))\n",
        "\n",
        "model.add(Conv2D(filters=128, kernel_size=3, activation='relu', padding='same'))\n",
        "model.add(Conv2D(filters=128, kernel_size=3, activation='relu', padding='same'))\n",
        "model.add(MaxPool2D(pool_size=2))\n",
        "\n",
        "model.add(Flatten())\n",
        "model.add(Dense(512, activation='relu'))\n",
        "model.add(Dropout(rate=0.25))\n",
        "model.add(Dense(10, activation='softmax'))\n",
        "'''\n",
        "\n",
        "model = Sequential()\n",
        "model.add(Conv2D(32, kernel_size=(3, 3),activation='relu',input_shape=(32,32,3)))\n",
        "#model.add(Conv2D(64, (3, 3), activation='relu'))\n",
        "model.add(MaxPool2D(pool_size=(2, 2)))\n",
        "\n",
        "\n",
        "model.add(Conv2D(64, kernel_size=(3, 3),activation='relu',input_shape=(32,32,3)))\n",
        "#model.add(Conv2D(64, (3, 3), activation='relu'))\n",
        "model.add(MaxPool2D(pool_size=(2, 2)))\n",
        "\n",
        "\n",
        "model.add(Conv2D(128, kernel_size=(3, 3),activation='relu',input_shape=(32,32,3)))\n",
        "#model.add(Conv2D(64, (3, 3), activation='relu'))\n",
        "model.add(MaxPool2D(pool_size=(2, 2)))\n",
        "'''\n",
        "model.add(Conv2D(256, kernel_size=(3, 3),activation='relu',input_shape=(32,32,3)))\n",
        "#model.add(Conv2D(64, (3, 3), activation='relu'))\n",
        "model.add(MaxPool2D(pool_size=(2, 2)))\n",
        "'''\n",
        "\n",
        "\n",
        "#model.add(Dropout(0.25))\n",
        "model.add(Flatten())\n",
        "model.add(Dense(128, activation='relu'))\n",
        "#model.add(Dropout(0.5))\n",
        "model.add(Dense(10, activation='softmax'))\n",
        "\n",
        "model.compile(loss='categorical_crossentropy',optimizer='Adam',metrics=['accuracy'])\n",
        "model.summary()\n"
      ],
      "execution_count": null,
      "outputs": [
        {
          "output_type": "stream",
          "text": [
            "Model: \"sequential_27\"\n",
            "_________________________________________________________________\n",
            "Layer (type)                 Output Shape              Param #   \n",
            "=================================================================\n",
            "conv2d_71 (Conv2D)           (None, 30, 30, 32)        896       \n",
            "_________________________________________________________________\n",
            "max_pooling2d_56 (MaxPooling (None, 15, 15, 32)        0         \n",
            "_________________________________________________________________\n",
            "conv2d_72 (Conv2D)           (None, 13, 13, 64)        18496     \n",
            "_________________________________________________________________\n",
            "max_pooling2d_57 (MaxPooling (None, 6, 6, 64)          0         \n",
            "_________________________________________________________________\n",
            "conv2d_73 (Conv2D)           (None, 4, 4, 128)         73856     \n",
            "_________________________________________________________________\n",
            "max_pooling2d_58 (MaxPooling (None, 2, 2, 128)         0         \n",
            "_________________________________________________________________\n",
            "flatten_9 (Flatten)          (None, 512)               0         \n",
            "_________________________________________________________________\n",
            "dense_18 (Dense)             (None, 128)               65664     \n",
            "_________________________________________________________________\n",
            "dense_19 (Dense)             (None, 10)                1290      \n",
            "=================================================================\n",
            "Total params: 160,202\n",
            "Trainable params: 160,202\n",
            "Non-trainable params: 0\n",
            "_________________________________________________________________\n"
          ],
          "name": "stdout"
        }
      ]
    },
    {
      "cell_type": "markdown",
      "metadata": {
        "id": "pSFbTdJoWOH0"
      },
      "source": [
        "顯示模型的結構"
      ]
    },
    {
      "cell_type": "code",
      "metadata": {
        "colab": {
          "base_uri": "https://localhost:8080/"
        },
        "id": "h_jiVgy-SbRr",
        "outputId": "985720b2-a4a4-492a-ed44-87cd70000098"
      },
      "source": [
        "print(model.summary())"
      ],
      "execution_count": null,
      "outputs": [
        {
          "output_type": "stream",
          "text": [
            "Model: \"sequential_27\"\n",
            "_________________________________________________________________\n",
            "Layer (type)                 Output Shape              Param #   \n",
            "=================================================================\n",
            "conv2d_71 (Conv2D)           (None, 30, 30, 32)        896       \n",
            "_________________________________________________________________\n",
            "max_pooling2d_56 (MaxPooling (None, 15, 15, 32)        0         \n",
            "_________________________________________________________________\n",
            "conv2d_72 (Conv2D)           (None, 13, 13, 64)        18496     \n",
            "_________________________________________________________________\n",
            "max_pooling2d_57 (MaxPooling (None, 6, 6, 64)          0         \n",
            "_________________________________________________________________\n",
            "conv2d_73 (Conv2D)           (None, 4, 4, 128)         73856     \n",
            "_________________________________________________________________\n",
            "max_pooling2d_58 (MaxPooling (None, 2, 2, 128)         0         \n",
            "_________________________________________________________________\n",
            "flatten_9 (Flatten)          (None, 512)               0         \n",
            "_________________________________________________________________\n",
            "dense_18 (Dense)             (None, 128)               65664     \n",
            "_________________________________________________________________\n",
            "dense_19 (Dense)             (None, 10)                1290      \n",
            "=================================================================\n",
            "Total params: 160,202\n",
            "Trainable params: 160,202\n",
            "Non-trainable params: 0\n",
            "_________________________________________________________________\n",
            "None\n"
          ],
          "name": "stdout"
        }
      ]
    },
    {
      "cell_type": "markdown",
      "metadata": {
        "id": "R0cLMWThWUUX"
      },
      "source": [
        "顯示訓練集的訓練過程"
      ]
    },
    {
      "cell_type": "code",
      "metadata": {
        "colab": {
          "base_uri": "https://localhost:8080/"
        },
        "id": "BgOg6RcZSdg6",
        "outputId": "2fd4afd8-22e4-4b02-d806-bd728a6c5a39"
      },
      "source": [
        "model.compile(loss='categorical_crossentropy', optimizer='adam', metrics=['accuracy'])\n",
        "model.fit(x_train, y_train, epochs=10, batch_size=64, verbose=1)"
      ],
      "execution_count": null,
      "outputs": [
        {
          "output_type": "stream",
          "text": [
            "Epoch 1/10\n",
            "782/782 [==============================] - 8s 9ms/step - loss: 1.7869 - accuracy: 0.3390\n",
            "Epoch 2/10\n",
            "782/782 [==============================] - 7s 9ms/step - loss: 1.2484 - accuracy: 0.5552\n",
            "Epoch 3/10\n",
            "782/782 [==============================] - 7s 9ms/step - loss: 1.0607 - accuracy: 0.6291\n",
            "Epoch 4/10\n",
            "782/782 [==============================] - 7s 9ms/step - loss: 0.9425 - accuracy: 0.6703\n",
            "Epoch 5/10\n",
            "782/782 [==============================] - 7s 9ms/step - loss: 0.8443 - accuracy: 0.7039\n",
            "Epoch 6/10\n",
            "782/782 [==============================] - 7s 9ms/step - loss: 0.7677 - accuracy: 0.7323\n",
            "Epoch 7/10\n",
            "782/782 [==============================] - 7s 9ms/step - loss: 0.7008 - accuracy: 0.7590\n",
            "Epoch 8/10\n",
            "782/782 [==============================] - 7s 9ms/step - loss: 0.6549 - accuracy: 0.7719\n",
            "Epoch 9/10\n",
            "782/782 [==============================] - 7s 9ms/step - loss: 0.6010 - accuracy: 0.7897\n",
            "Epoch 10/10\n",
            "782/782 [==============================] - 7s 9ms/step - loss: 0.5518 - accuracy: 0.8061\n"
          ],
          "name": "stdout"
        },
        {
          "output_type": "execute_result",
          "data": {
            "text/plain": [
              "<tensorflow.python.keras.callbacks.History at 0x7f1c495d3bd0>"
            ]
          },
          "metadata": {
            "tags": []
          },
          "execution_count": 52
        }
      ]
    },
    {
      "cell_type": "code",
      "metadata": {
        "colab": {
          "base_uri": "https://localhost:8080/",
          "height": 180
        },
        "id": "TJ0e51hVVeoU",
        "outputId": "2c24a5df-82f4-4a5e-b032-95652839c262"
      },
      "source": [
        "'''\n",
        "pirnt(x_train[1])\n",
        "print(y_train[1])\n",
        "'''"
      ],
      "execution_count": null,
      "outputs": [
        {
          "output_type": "error",
          "ename": "NameError",
          "evalue": "ignored",
          "traceback": [
            "\u001b[0;31m---------------------------------------------------------------------------\u001b[0m",
            "\u001b[0;31mNameError\u001b[0m                                 Traceback (most recent call last)",
            "\u001b[0;32m<ipython-input-39-ede8a6bccc56>\u001b[0m in \u001b[0;36m<module>\u001b[0;34m()\u001b[0m\n\u001b[0;32m----> 1\u001b[0;31m \u001b[0mpirnt\u001b[0m\u001b[0;34m(\u001b[0m\u001b[0mx_train\u001b[0m\u001b[0;34m[\u001b[0m\u001b[0;36m1\u001b[0m\u001b[0;34m]\u001b[0m\u001b[0;34m)\u001b[0m\u001b[0;34m\u001b[0m\u001b[0;34m\u001b[0m\u001b[0m\n\u001b[0m\u001b[1;32m      2\u001b[0m \u001b[0mprint\u001b[0m\u001b[0;34m(\u001b[0m\u001b[0my_train\u001b[0m\u001b[0;34m[\u001b[0m\u001b[0;36m1\u001b[0m\u001b[0;34m]\u001b[0m\u001b[0;34m)\u001b[0m\u001b[0;34m\u001b[0m\u001b[0;34m\u001b[0m\u001b[0m\n",
            "\u001b[0;31mNameError\u001b[0m: name 'pirnt' is not defined"
          ]
        }
      ]
    },
    {
      "cell_type": "code",
      "metadata": {
        "colab": {
          "base_uri": "https://localhost:8080/",
          "height": 35
        },
        "id": "sXUQpX-zSgHj",
        "outputId": "f6386a21-07ea-4f0b-db6b-14c2b4ef03cd"
      },
      "source": [
        "'''\n",
        "loss, accuracy = model.evaluate(x_test, y_test)\n",
        "print('Test:')\n",
        "print('Loss:', loss)\n",
        "print('Accuracy:', accuracy)\n",
        "'''"
      ],
      "execution_count": null,
      "outputs": [
        {
          "output_type": "execute_result",
          "data": {
            "application/vnd.google.colaboratory.intrinsic+json": {
              "type": "string"
            },
            "text/plain": [
              "\"\\nloss, accuracy = model.evaluate(x_test, y_test)\\nprint('Test:')\\nprint('Loss:', loss)\\nprint('Accuracy:', accuracy)\\n\""
            ]
          },
          "metadata": {
            "tags": []
          },
          "execution_count": 1
        }
      ]
    },
    {
      "cell_type": "markdown",
      "metadata": {
        "id": "lvMvvrJCaATL"
      },
      "source": [
        "顯示訓練集訓練的過程"
      ]
    },
    {
      "cell_type": "code",
      "metadata": {
        "colab": {
          "base_uri": "https://localhost:8080/"
        },
        "id": "XDstDe8iTIlk",
        "outputId": "faadbf89-60ea-494d-a36c-944937a252e5"
      },
      "source": [
        "model.fit(x_train, y_train, epochs=10)"
      ],
      "execution_count": null,
      "outputs": [
        {
          "output_type": "stream",
          "text": [
            "Epoch 1/10\n",
            "1563/1563 [==============================] - 12s 8ms/step - loss: 0.6213 - accuracy: 0.7817\n",
            "Epoch 2/10\n",
            "1563/1563 [==============================] - 12s 8ms/step - loss: 0.5509 - accuracy: 0.8061\n",
            "Epoch 3/10\n",
            "1563/1563 [==============================] - 12s 8ms/step - loss: 0.5048 - accuracy: 0.8216\n",
            "Epoch 4/10\n",
            "1563/1563 [==============================] - 12s 8ms/step - loss: 0.4617 - accuracy: 0.8367\n",
            "Epoch 5/10\n",
            "1563/1563 [==============================] - 12s 8ms/step - loss: 0.4247 - accuracy: 0.8485\n",
            "Epoch 6/10\n",
            "1563/1563 [==============================] - 12s 8ms/step - loss: 0.3908 - accuracy: 0.8600\n",
            "Epoch 7/10\n",
            "1563/1563 [==============================] - 12s 8ms/step - loss: 0.3604 - accuracy: 0.8721\n",
            "Epoch 8/10\n",
            "1563/1563 [==============================] - 12s 8ms/step - loss: 0.3337 - accuracy: 0.8808\n",
            "Epoch 9/10\n",
            "1563/1563 [==============================] - 12s 8ms/step - loss: 0.3115 - accuracy: 0.8884\n",
            "Epoch 10/10\n",
            "1563/1563 [==============================] - 12s 8ms/step - loss: 0.2841 - accuracy: 0.8978\n"
          ],
          "name": "stdout"
        },
        {
          "output_type": "execute_result",
          "data": {
            "text/plain": [
              "<tensorflow.python.keras.callbacks.History at 0x7f1c494ff510>"
            ]
          },
          "metadata": {
            "tags": []
          },
          "execution_count": 53
        }
      ]
    },
    {
      "cell_type": "code",
      "metadata": {
        "colab": {
          "base_uri": "https://localhost:8080/"
        },
        "id": "8jDpmgW-ZO8c",
        "outputId": "afce8e6e-bcc8-4f6b-d0b1-a88510468794"
      },
      "source": [
        "'''\n",
        "model.fit(x_test, y_test, epochs=10)\n",
        "'''"
      ],
      "execution_count": null,
      "outputs": [
        {
          "output_type": "stream",
          "text": [
            "Epoch 1/10\n",
            "313/313 [==============================] - 6s 19ms/step - loss: 0.8237 - accuracy: 0.7284\n",
            "Epoch 2/10\n",
            "313/313 [==============================] - 6s 18ms/step - loss: 0.5389 - accuracy: 0.8136\n",
            "Epoch 3/10\n",
            "313/313 [==============================] - 6s 18ms/step - loss: 0.3585 - accuracy: 0.8741\n",
            "Epoch 4/10\n",
            "313/313 [==============================] - 6s 18ms/step - loss: 0.2207 - accuracy: 0.9231\n",
            "Epoch 5/10\n",
            "313/313 [==============================] - 6s 18ms/step - loss: 0.1784 - accuracy: 0.9393\n",
            "Epoch 6/10\n",
            "313/313 [==============================] - 6s 18ms/step - loss: 0.1723 - accuracy: 0.9396\n",
            "Epoch 7/10\n",
            "313/313 [==============================] - 6s 18ms/step - loss: 0.1257 - accuracy: 0.9569\n",
            "Epoch 8/10\n",
            "313/313 [==============================] - 6s 18ms/step - loss: 0.1285 - accuracy: 0.9585\n",
            "Epoch 9/10\n",
            "313/313 [==============================] - 6s 18ms/step - loss: 0.1192 - accuracy: 0.9602\n",
            "Epoch 10/10\n",
            "313/313 [==============================] - 6s 18ms/step - loss: 0.1027 - accuracy: 0.9650\n"
          ],
          "name": "stdout"
        },
        {
          "output_type": "execute_result",
          "data": {
            "text/plain": [
              "<tensorflow.python.keras.callbacks.History at 0x7f1c4c075210>"
            ]
          },
          "metadata": {
            "tags": []
          },
          "execution_count": 16
        }
      ]
    },
    {
      "cell_type": "markdown",
      "metadata": {
        "id": "Vf8M3Hj3aXdd"
      },
      "source": [
        "顯示訓練及測試集的loss和accuracy"
      ]
    },
    {
      "cell_type": "code",
      "metadata": {
        "colab": {
          "base_uri": "https://localhost:8080/"
        },
        "id": "EY036NMgaBFk",
        "outputId": "af93a869-eb38-4c59-d91c-d0c39a742d5c"
      },
      "source": [
        "loss, accuracy = model.evaluate(x_train, y_train)\n",
        "print(\"訓練資料集的準確度 = {:.4f}\".format(accuracy))\n",
        "loss, accuracy = model.evaluate(x_test, y_test)\n",
        "print(\"測試資料集的準確度 = {:.4f}\".format(accuracy))"
      ],
      "execution_count": null,
      "outputs": [
        {
          "output_type": "stream",
          "text": [
            "1563/1563 [==============================] - 6s 4ms/step - loss: 0.2927 - accuracy: 0.8996\n",
            "訓練資料集的準確度 = 0.8996\n",
            "313/313 [==============================] - 1s 4ms/step - loss: 1.4985 - accuracy: 0.6222\n",
            "測試資料集的準確度 = 0.6222\n"
          ],
          "name": "stdout"
        }
      ]
    },
    {
      "cell_type": "markdown",
      "metadata": {
        "id": "Lkm_PLRmaeup"
      },
      "source": [
        "改變資料型態(dimension)\n",
        "4D─2D"
      ]
    },
    {
      "cell_type": "code",
      "metadata": {
        "colab": {
          "base_uri": "https://localhost:8080/"
        },
        "id": "6DfXM57Y13O0",
        "outputId": "0d305249-1d81-4f39-f353-b327401e8e5d"
      },
      "source": [
        "print(x_train.shape)\n",
        "print(y_train.shape)\n",
        "print(x_test.shape)\n",
        "print(y_test.shape)\n",
        "print('____________________')\n",
        "x_trainr = x_train.reshape(50000,3072)\n",
        "y_trainr = y_train.reshape(50000,10)\n",
        "x_testr = x_test.reshape(10000,3072)\n",
        "y_testr = y_test.reshape(10000,10)"
      ],
      "execution_count": null,
      "outputs": [
        {
          "output_type": "stream",
          "text": [
            "(50000, 32, 32, 3)\n",
            "(50000, 10)\n",
            "(10000, 32, 32, 3)\n",
            "(10000, 10)\n",
            "____________________\n"
          ],
          "name": "stdout"
        }
      ]
    },
    {
      "cell_type": "markdown",
      "metadata": {
        "id": "Kr0YcrlRaoiD"
      },
      "source": [
        "繪製混淆矩陣"
      ]
    },
    {
      "cell_type": "code",
      "metadata": {
        "colab": {
          "base_uri": "https://localhost:8080/"
        },
        "id": "nmEghjq6aJvB",
        "outputId": "8024461c-af19-48bf-aca4-96fa87beb59e"
      },
      "source": [
        "import numpy as np\n",
        "import pandas as pd\n",
        "import math\n",
        "import scipy.stats as sci\n",
        "from sklearn.model_selection import train_test_split\n",
        "from sklearn import ensemble, metrics\n",
        "from sklearn.metrics import confusion_matrix\n",
        "from sklearn.metrics import classification_report \n",
        "\n",
        "forest = ensemble.RandomForestClassifier(n_estimators=10)\n",
        "forest_fit = forest.fit(x_testr, y_testr)\n",
        "test_y_predicted = forest.predict(x_testr)\n",
        "accuracy = metrics.accuracy_score(y_testr, test_y_predicted)\n",
        "C = confusion_matrix(y_testr.argmax(axis=1), test_y_predicted.argmax(axis=1))\n",
        "print(\"Score\",forest.score(x_testr, y_testr))\n",
        "print(accuracy)\n",
        "print(C)\n",
        "print(classification_report(y_testr, test_y_predicted))"
      ],
      "execution_count": null,
      "outputs": [
        {
          "output_type": "stream",
          "text": [
            "Score 0.8545\n",
            "0.8545\n",
            "[[1000    0    0    0    0    0    0    0    0    0]\n",
            " [ 131  869    0    0    0    0    0    0    0    0]\n",
            " [ 158    0  842    0    0    0    0    0    0    0]\n",
            " [ 175    0    0  825    0    0    0    0    0    0]\n",
            " [ 137    0    0    0  863    0    0    0    0    0]\n",
            " [ 167    0    0    1    0  832    0    0    0    0]\n",
            " [ 139    0    0    0    1    0  860    0    0    0]\n",
            " [ 174    0    0    0    0    0    0  826    0    0]\n",
            " [ 105    0    0    0    0    0    0    0  895    0]\n",
            " [ 154    0    0    0    0    0    0    0    1  845]]\n",
            "              precision    recall  f1-score   support\n",
            "\n",
            "           0       1.00      0.89      0.94      1000\n",
            "           1       1.00      0.87      0.93      1000\n",
            "           2       1.00      0.84      0.91      1000\n",
            "           3       1.00      0.82      0.90      1000\n",
            "           4       1.00      0.86      0.93      1000\n",
            "           5       1.00      0.83      0.91      1000\n",
            "           6       1.00      0.86      0.92      1000\n",
            "           7       1.00      0.83      0.90      1000\n",
            "           8       1.00      0.90      0.94      1000\n",
            "           9       1.00      0.84      0.92      1000\n",
            "\n",
            "   micro avg       1.00      0.85      0.92     10000\n",
            "   macro avg       1.00      0.85      0.92     10000\n",
            "weighted avg       1.00      0.85      0.92     10000\n",
            " samples avg       0.85      0.85      0.85     10000\n",
            "\n"
          ],
          "name": "stdout"
        },
        {
          "output_type": "stream",
          "text": [
            "/usr/local/lib/python3.7/dist-packages/sklearn/metrics/_classification.py:1272: UndefinedMetricWarning: Precision and F-score are ill-defined and being set to 0.0 in samples with no predicted labels. Use `zero_division` parameter to control this behavior.\n",
            "  _warn_prf(average, modifier, msg_start, len(result))\n"
          ],
          "name": "stderr"
        }
      ]
    },
    {
      "cell_type": "code",
      "metadata": {
        "id": "cHMnpUUbUIyy"
      },
      "source": [
        ""
      ],
      "execution_count": null,
      "outputs": []
    }
  ]
}